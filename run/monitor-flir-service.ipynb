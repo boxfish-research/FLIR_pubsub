{
 "cells": [
  {
   "cell_type": "markdown",
   "metadata": {},
   "source": [
    "### Install and monitor the FLIR camera service\n",
    "Install"
   ]
  },
  {
   "cell_type": "code",
   "execution_count": null,
   "metadata": {},
   "outputs": [],
   "source": [
    "! sudo cp flir-server.service /etc/systemd/system/flir-server.service"
   ]
  },
  {
   "cell_type": "markdown",
   "metadata": {},
   "source": [
    "Start the service"
   ]
  },
  {
   "cell_type": "code",
   "execution_count": null,
   "metadata": {},
   "outputs": [],
   "source": [
    "! sudo systemctl start flir-server.service"
   ]
  },
  {
   "cell_type": "markdown",
   "metadata": {},
   "source": [
    "Stop the service"
   ]
  },
  {
   "cell_type": "code",
   "execution_count": null,
   "metadata": {},
   "outputs": [
    {
     "name": "stdout",
     "output_type": "stream",
     "text": [
      "\u001b[0;1;31mWarning:\u001b[0m The unit file, source configuration file or drop-ins of flir-server.service changed on disk. Run 'systemctl daemon-reload' to reload units.\r\n"
     ]
    }
   ],
   "source": [
    "! sudo systemctl stop flir-server.service"
   ]
  },
  {
   "cell_type": "markdown",
   "metadata": {},
   "source": [
    "Enable it so that it starts on boot"
   ]
  },
  {
   "cell_type": "code",
   "execution_count": null,
   "metadata": {},
   "outputs": [],
   "source": [
    "! sudo systemctl enable flir-server.service   # enable at boot"
   ]
  },
  {
   "cell_type": "markdown",
   "metadata": {},
   "source": [
    "Disable it so that it does not start on boot"
   ]
  },
  {
   "cell_type": "code",
   "execution_count": null,
   "metadata": {},
   "outputs": [],
   "source": [
    "! sudo systemctl enable flir-server.service   # enable at boot"
   ]
  },
  {
   "cell_type": "markdown",
   "metadata": {},
   "source": [
    "To show status of the service   "
   ]
  },
  {
   "cell_type": "code",
   "execution_count": null,
   "metadata": {},
   "outputs": [
    {
     "name": "stdout",
     "output_type": "stream",
     "text": [
      "\u001b[0;1;32m●\u001b[0m flir-server.service - FLIR-camera server service\u001b[m\n",
      "   Loaded: loaded (/etc/systemd/system/flir-server.service; enabled; vendor pres\u001b[m\n",
      "   Active: \u001b[0;1;32mactive (running)\u001b[0m since Tue 2020-03-24 07:53:04 NZDT; 20min ago\u001b[m\n",
      " Main PID: 765 (python)\u001b[m\n",
      "    Tasks: 17 (limit: 4915)\u001b[m\n",
      "   CGroup: /system.slice/flir-server.service\u001b[m\n",
      "           └─765 /home/rov/.virtualenvs/flir/bin/python -u run/flir-server.py\u001b[m\n",
      "\u001b[m\n",
      "Mar 24 07:53:06 rov-UP python[765]: 19444715 - executing: \"Gain.SetValue(6)\"\u001b[m\n",
      "Mar 24 07:53:06 rov-UP python[765]: 19444715 - executing: \"BlackLevelSelector.Se\u001b[m\n",
      "Mar 24 07:53:06 rov-UP python[765]: 19444715 - executing: \"BlackLevel.SetValue(0\u001b[m\n",
      "Mar 24 07:53:07 rov-UP python[765]: 19444715 - executing: \"GammaEnable.SetValue(\u001b[m\n",
      "Mar 24 07:53:07 rov-UP python[765]: Starting : FrontLeft\u001b[m\n",
      "Mar 24 07:53:17 rov-UP python[765]: Stopping FrontLeft due to inactivity.\u001b[m\n",
      "Mar 24 07:54:12 rov-UP python[765]: Starting : FrontLeft\u001b[m\n",
      "Mar 24 07:54:26 rov-UP python[765]: Stopping FrontLeft due to inactivity.\u001b[m\n",
      "Mar 24 07:54:33 rov-UP python[765]: Starting : FrontLeft\u001b[m\n",
      "Mar 24 07:54:48 rov-UP python[765]: Stopping FrontLeft due to inactivity.\u001b[m\n",
      "\u001b[K\u001b[?1l\u001b>1-18/18 (END)\u001b[m\u001b[K\u0007"
     ]
    }
   ],
   "source": [
    "! sudo systemctl status flir-server.service\n"
   ]
  },
  {
   "cell_type": "code",
   "execution_count": null,
   "metadata": {},
   "outputs": [],
   "source": []
  },
  {
   "cell_type": "code",
   "execution_count": null,
   "metadata": {},
   "outputs": [],
   "source": []
  }
 ],
 "metadata": {
  "kernelspec": {
   "display_name": "Python 3",
   "language": "python",
   "name": "python3"
  }
 },
 "nbformat": 4,
 "nbformat_minor": 1
}
