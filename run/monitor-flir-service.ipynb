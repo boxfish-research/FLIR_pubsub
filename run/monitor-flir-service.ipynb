{
 "cells": [
  {
   "cell_type": "markdown",
   "metadata": {},
   "source": [
    "### Install and monitor the FLIR camera service\n",
    "Install"
   ]
  },
  {
   "cell_type": "code",
   "execution_count": 6,
   "metadata": {},
   "outputs": [],
   "source": [
    "! sudo cp flir-server.service /etc/systemd/system/flir-server.service"
   ]
  },
  {
   "cell_type": "markdown",
   "metadata": {},
   "source": [
    "Start the service"
   ]
  },
  {
   "cell_type": "code",
   "execution_count": 4,
   "metadata": {
    "scrolled": true,
    "pycharm": {
     "is_executing": false
    }
   },
   "outputs": [],
   "source": [
    "! sudo systemctl start flir-server.service"
   ]
  },
  {
   "cell_type": "code",
   "execution_count": 3,
   "metadata": {
    "pycharm": {
     "name": "#%%\n",
     "is_executing": false
    }
   },
   "outputs": [],
   "source": [
    "! sudo systemctl daemon-reload"
   ]
  },
  {
   "cell_type": "markdown",
   "metadata": {
    "pycharm": {
     "name": "#%% md\n"
    }
   },
   "source": [
    "Stop the service"
   ]
  },
  {
   "cell_type": "code",
   "execution_count": 2,
   "metadata": {
    "pycharm": {
     "name": "#%%\n",
     "is_executing": false
    }
   },
   "outputs": [],
   "source": [
    "! sudo systemctl stop flir-server.service"
   ]
  },
  {
   "cell_type": "markdown",
   "metadata": {
    "pycharm": {
     "name": "#%% md\n"
    }
   },
   "source": [
    "Disable it so that it does not start on boot"
   ]
  },
  {
   "cell_type": "code",
   "execution_count": 3,
   "metadata": {
    "pycharm": {
     "name": "#%%\n"
    }
   },
   "outputs": [],
   "source": [
    "! sudo systemctl disable flir-server.service   # enable at boot"
   ]
  },
  {
   "cell_type": "markdown",
   "metadata": {},
   "source": [
    "Enable it so that it starts on boot"
   ]
  },
  {
   "cell_type": "markdown",
   "metadata": {},
   "source": [
    "! sudo systemctl enable flir-server.service   # enable at boot"
   ]
  },
  {
   "cell_type": "code",
   "execution_count": 5,
   "metadata": {
    "pycharm": {
     "is_executing": false
    }
   },
   "outputs": [],
   "source": [
    "! sudo systemctl enable flir-server.service   # enable at boot"
   ]
  },
  {
   "cell_type": "markdown",
   "metadata": {},
   "source": [
    "To show status of the service   "
   ]
  },
  {
   "cell_type": "code",
   "execution_count": 7,
   "metadata": {
    "pycharm": {
     "is_executing": false
    }
   },
   "outputs": [
    {
     "name": "stdout",
     "text": [
      "● flir-server.service - FLIR-camera server service\r\n",
      "   Loaded: loaded (/etc/systemd/system/flir-server.service; enabled; vendor preset: enabled)\r\n",
      "   Active: activating (auto-restart) (Result: exit-code) since Wed 2020-04-08 19:54:56 NZST; 5s ago\r\n",
      "  Process: 8842 ExecStart=/bin/bash /home/rov/git/FLIR_pubsub/run/start-flir-server-service.sh \u001b[0;1;31m(code=exited, status=127)\u001b[0m\r\n",
      " Main PID: 8842 (code=exited, status=127)\r\n"
     ],
     "output_type": "stream"
    }
   ],
   "source": [
    "! sudo systemctl  --no-pager  status flir-server.service\n"
   ]
  },
  {
   "cell_type": "code",
   "execution_count": 8,
   "metadata": {
    "pycharm": {
     "is_executing": false
    }
   },
   "outputs": [
    {
     "name": "stdout",
     "text": [
      "Unit jupyter.service could not be found.\r\n"
     ],
     "output_type": "stream"
    }
   ],
   "source": [
    "! sudo systemctl  --no-pager  status jupyter.service"
   ]
  },
  {
   "cell_type": "code",
   "execution_count": null,
   "metadata": {},
   "outputs": [],
   "source": []
  }
 ],
 "metadata": {
  "kernelspec": {
   "display_name": "Python 3",
   "language": "python",
   "name": "python3"
  },
  "language_info": {
   "codemirror_mode": {
    "name": "ipython",
    "version": 3
   },
   "file_extension": ".py",
   "mimetype": "text/x-python",
   "name": "python",
   "nbconvert_exporter": "python",
   "pygments_lexer": "ipython3",
   "version": "3.6.9"
  },
  "pycharm": {
   "stem_cell": {
    "cell_type": "raw",
    "source": [],
    "metadata": {
     "collapsed": false
    }
   }
  }
 },
 "nbformat": 4,
 "nbformat_minor": 1
}