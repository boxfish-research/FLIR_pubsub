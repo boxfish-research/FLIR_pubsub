{
 "cells": [
  {
   "cell_type": "code",
   "execution_count": null,
   "metadata": {},
   "outputs": [],
   "source": [
    "# default_exp FLIR_videocapture\n",
    "# default_cls_lvl 3"
   ]
  },
  {
   "cell_type": "markdown",
   "metadata": {},
   "source": [
    "# FLIR Video Capture\n",
    "> This class mimics openCV videocapture with three methods"
   ]
  },
  {
   "cell_type": "code",
   "execution_count": null,
   "metadata": {},
   "outputs": [],
   "source": [
    "#hide\n",
    "from nbdev.showdoc import *\n",
    "%reload_ext autoreload\n",
    "%autoreload 2\n",
    "%matplotlib inline"
   ]
  },
  {
   "cell_type": "code",
   "execution_count": null,
   "metadata": {},
   "outputs": [],
   "source": [
    "# export\n",
    "import imutils\n",
    "import cv2\n",
    "from imutils.video import FPS\n",
    "import zmq\n",
    "import numpy as np\n",
    "import time\n",
    "import skvideo.io\n",
    "from FLIR_pubsub import FLIR_client_utils as flir"
   ]
  },
  {
   "cell_type": "markdown",
   "metadata": {},
   "source": [
    "## FLIR Video Capture\n",
    "This class mimics openCV videocapture with three methods"
   ]
  },
  {
   "cell_type": "code",
   "execution_count": null,
   "metadata": {},
   "outputs": [
    {
     "name": "stdout",
     "output_type": "stream",
     "text": [
      "Connecting to server...\n",
      "True (1800, 2400, 3)\n"
     ]
    }
   ],
   "source": [
    "# export\n",
    "PORT = 5555\n",
    "from threading import Thread\n",
    "class FlirCapture:\n",
    "    ''' Capture images from an networked FLIR camera across a tcp link. Mimics openCV VideoCapture class'''\n",
    "    def __init__(self, src, name='FrontLeft', verbose=False):\n",
    "        self.url = src\n",
    "        self.name = name\n",
    "        self._verbose = verbose\n",
    "        self._isOpend = False\n",
    "        self._socket_sub = None\n",
    "\n",
    "        self._context = zmq.Context()\n",
    "\n",
    "        # subscribe socket\n",
    "        print(f\"FlirCapture: Connecting to server {src}, {name}\")\n",
    "        try:\n",
    "            self._socket_sub = self._context.socket(zmq.SUB)\n",
    "            self._socket_sub.connect(f\"tcp://{src}:{PORT}\")\n",
    "            self._socket_sub.setsockopt_string(zmq.SUBSCRIBE, name)\n",
    "            self._isOpened = True\n",
    "        except:\n",
    "            print(\"Failed to open\")\n",
    "            self._isOpened = False\n",
    "\n",
    "\n",
    "\n",
    "    def isOpened(self):\n",
    "        ''' Returns bool True or False'''\n",
    "        return self._isOpend\n",
    "\n",
    "    def release(self):\n",
    "        ''' end / stop'''\n",
    "        self._stopped = True\n",
    "        self._socket_sub.close()\n",
    "        self._context.term()\n",
    "        self._isOpend = False\n",
    "        pass\n",
    "\n",
    "    def read(self):\n",
    "        '''read the last fetched buffer'''\n",
    "        grabbed = False\n",
    "        flir.poll_server(self.url, self.name)\n",
    "\n",
    "        topic, rec_frame, md = flir.recv_frame(self._socket_sub)\n",
    "\n",
    "        grabbed = True\n",
    "        return grabbed, rec_frame\n",
    "\n",
    "    # def _start(self):\n",
    "    #     \"\"\"start the thread to read frames from the video stream\"\"\"\n",
    "    #     if self._verbose:\n",
    "    #         print(f\"[INFO] connecting to Cam: {self._src}\")\n",
    "    #\n",
    "    #     self._stopped = False\n",
    "    #     self._thread = Thread(target=self._update, name=self.name, args=())\n",
    "    #     self._thread.daemon = True\n",
    "    #     self._thread.start()\n",
    "    #     return\n",
    "\n",
    "\n",
    "if __name__ == '__main__':\n",
    "    name1='FrontLeft'\n",
    "    name2='FrontRight'\n",
    "    src='localhost'\n",
    "    stream1 = FlirCapture(src, name1)\n",
    "    stream2 = FlirCapture(src, name2)\n",
    "    print('Opened', stream1.isOpened())\n",
    "    fps = FPS().start()\n",
    "\n",
    "    while True:\n",
    "        try:\n",
    "            g, r = stream1.read()\n",
    "            print(name1, g, r.shape)\n",
    "            g, r = stream2.read()\n",
    "            print(name2, g, r.shape)\n",
    "            fps.update()\n",
    "        except KeyboardInterrupt:\n",
    "            break\n",
    "\n",
    "    stream1.release()\n",
    "    fps.stop()\n",
    "    cv2.destroyAllWindows()\n",
    "    print(\"[INFO] approx. FPS: {:.2f}\".format(fps.fps()))"
   ]
  },
  {
   "cell_type": "code",
   "execution_count": null,
   "metadata": {},
   "outputs": [],
   "source": [
    "    # def _update(self):\n",
    "    #     \"\"\"keep looping infinitely until the thread is stopped\"\"\"\n",
    "    #     while not self._stopped:\n",
    "    #         topic, self.rec_frame, md = recv_frame(self._socket_sub)\n",
    "    # \n",
    "    #         # \n",
    "\t# \t\t# if self._stream is not None and self._stream.isOpened():\n",
    "\t# \t\t# \t(self.grabbed, self._frame) = self._stream.read()\n",
    "\t# \t\t# \tif self.grabbed:\n",
    "\t# \t\t# \t\tself._fps.update()\n",
    "\t# \t\t# \t\tself.last = datetime.datetime.now()\n",
    "\t# \t\t# \t\ttime.sleep(0.01)\n",
    "\t# \t\t# else:\n",
    "\t# \t\t# \tself.connect()\n",
    "\t# \t\t# \ttime.sleep(0.01)\n",
    "\t# \t\t# # \ttime.sleep(1)\n",
    "\t# \t\t# if self._fps.elapsed() > 5:\n",
    "\t# \t\t# \tself._fps.stop()\n",
    "\t# \t\t# \tself.fps = self._fps.fps\n",
    "\t# \t\t# \tprint(self.fps)\n",
    "\t# \t\t# \tif self._fps.numFrames == 0:\n",
    "\t# \t\t# \t\tself.connect()\n",
    "    #         # \n",
    "\t# \t\t# \tself._fps.start()\n",
    "    # \n",
    "\t# \t# Thread has stopped\n",
    "\t# \tif self._verbose:\n",
    "\t# \t\tprint(f\"[INFO] Stopped Cam: {self._src}\")"
   ]
  },
  {
   "cell_type": "code",
   "execution_count": null,
   "metadata": {},
   "outputs": [],
   "source": [
    "i = 1\n",
    "\n",
    "\n"
   ]
  }
 ],
 "metadata": {
  "kernelspec": {
   "display_name": "Python 3",
   "language": "python",
   "name": "python3"
  },
  "language_info": {
   "codemirror_mode": {
    "name": "ipython",
    "version": 3
   },
   "file_extension": ".py",
   "mimetype": "text/x-python",
   "name": "python",
   "nbconvert_exporter": "python",
   "pygments_lexer": "ipython3",
   "version": "3.6.9"
  },
  "pycharm": {
   "stem_cell": {
    "cell_type": "raw",
    "source": [],
    "metadata": {
     "collapsed": false
    }
   }
  }
 },
 "nbformat": 4,
 "nbformat_minor": 1
}