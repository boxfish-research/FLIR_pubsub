{
 "cells": [
  {
   "cell_type": "code",
   "execution_count": null,
   "metadata": {},
   "outputs": [],
   "source": [
    "# default_exp FLIR_camera_calibration_utils\n",
    "# default_cls_lvl 3"
   ]
  },
  {
   "cell_type": "markdown",
   "metadata": {},
   "source": [
    "# FLIR Camera Calibration\n",
    "> Utilities for calibrating a cameras \n",
    "\n",
    "These routines are designed to be run on a rov computer connected via ethernet to a `ssh` client.\n",
    "The idea is that the rov can be operated in an underwater environment in proximity to a \n",
    "calibration target and images captured. The routines are intended to be controlled from a PC via `ssh` \n",
    "with the PC also running `flir-client.py` viewer."
   ]
  },
  {
   "cell_type": "markdown",
   "metadata": {},
   "source": [
    "### Setup\n",
    "To run these examples install Jupyter Notebook  \n",
    "`pip install notebook`\n",
    "Note for some reasen I had to change the second to last line\n",
    "\n",
    "``` \"nbformat_minor\": 1 ```\n",
    "\n",
    "to\n",
    "\n",
    "``` \"nbformat_minor\": 4 ```\n"
   ]
  },
  {
   "cell_type": "code",
   "execution_count": null,
   "metadata": {},
   "outputs": [],
   "source": [
    "from nbdev.showdoc import *\n",
    "%reload_ext autoreload\n",
    "%autoreload 2\n",
    "%matplotlib inline\n"
   ]
  },
  {
   "cell_type": "code",
   "execution_count": null,
   "metadata": {},
   "outputs": [],
   "source": [
    "from matplotlib.pyplot import imshow\n",
    "import matplotlib.pyplot as plt\n",
    "import cv2"
   ]
  },
  {
   "cell_type": "markdown",
   "metadata": {},
   "source": [
    "### Capture Utility"
   ]
  },
  {
   "cell_type": "code",
   "execution_count": null,
   "metadata": {},
   "outputs": [],
   "source": [
    "# export\n",
    "\n",
    "import imutils\n",
    "import cv2\n",
    "from imutils.video import FPS\n",
    "import zmq\n",
    "import numpy as np\n",
    "import time\n",
    "\n",
    "class Capture:\n",
    "    def __init__(self, name='FrontLeft', url='localhost'):\n",
    "        self.PORT = 5555\n",
    "        self.width = 1000\n",
    "        self.height = 750\n",
    "        self.name = name\n",
    "        self.url = url\n",
    "        self.socket_sub = None\n",
    "        self.context = None\n",
    "\n",
    "\n",
    "    def _recv_array(self, socket:zmq.Context.socket, flags=0, copy=True, track=False):\n",
    "        \"\"\"recv a numpy array\"\"\"\n",
    "        md = socket.recv_json(flags=flags)\n",
    "        msg = socket.recv(flags=flags, copy=copy, track=track)\n",
    "        buf = memoryview(msg)\n",
    "        A = np.frombuffer(buf, dtype=md['dtype'])\n",
    "        # return (A.reshape(md['shape']), md)\n",
    "        return (A, md)\n",
    "\n",
    "    def _recv_frame(self, socket):\n",
    "        \"\"\" Receive and process an image from camera\"\"\"\n",
    "        try:\n",
    "            #  Get the reply.\n",
    "            topic = socket.recv_string()\n",
    "            rec_frame, md = self._recv_array(socket)\n",
    "            rec_frame = cv2.imdecode(rec_frame, cv2.IMREAD_GRAYSCALE)\n",
    "            rec_frame = cv2.cvtColor(rec_frame, cv2.COLOR_BAYER_BG2BGR)\n",
    "            rec_frame = rec_frame.reshape((3000, 4000, 3))\n",
    "            # rec_frame = imutils.resize(rec_frame, width=width, height=height)\n",
    "            # cv2.putText(rec_frame, f'Received frame {md}',\n",
    "            #             (10, 30), cv2.FONT_HERSHEY_SIMPLEX, 0.6, (255, 255, 255), 2)\n",
    "\n",
    "        except Exception as e:\n",
    "            rec_frame = np.ones((self.width, self.height))\n",
    "            topic = 'cam1'\n",
    "            md = None\n",
    "            # cv2.putText(rec_frame, f'error:  {e}',\n",
    "            #             (10, 30), cv2.FONT_HERSHEY_SIMPLEX, 0.6, (0, 255, 255), 2)\n",
    "            print (f\"error: message timeout {e}\")\n",
    "            time.sleep(1)\n",
    "        return topic, rec_frame, md\n",
    "\n",
    "    def _poll_server(self):\n",
    "        context = zmq.Context()\n",
    "        socket = context.socket(zmq.REQ)\n",
    "        socket.connect(f\"tcp://{self.url}:{self.PORT + 1}\")\n",
    "        socket.setsockopt(zmq.LINGER, 0)\n",
    "        poller = zmq.Poller()\n",
    "        poller.register(socket, flags=zmq.POLLIN)\n",
    "\n",
    "        socket.send_string(f\"keep_alive {self.name}\")\n",
    "        result = dict(poller.poll(1000))\n",
    "        poller.unregister(socket)\n",
    "\n",
    "    def open_client(self, name='FrontLeft', url='localhost'):\n",
    "        \"\"\" Received frames from a single camera. Must have the server running\"\"\"\n",
    "\n",
    "        self.context = zmq.Context()\n",
    "\n",
    "        # subscribe socket\n",
    "        print( \"Connecting to server...\")\n",
    "        self.socket_sub = self.context.socket(zmq.SUB)\n",
    "        self.socket_sub.connect( f\"tcp://{url}:{self.PORT}\")\n",
    "        self.socket_sub.setsockopt_string(zmq.SUBSCRIBE, name)\n",
    "\n",
    "\n",
    "    def close_client(self):\n",
    "        self.socket_sub.close()\n",
    "\n",
    "        self.context.term()\n",
    "        cv2.destroyAllWindows()\n",
    "\n",
    "        print('Finished')\n",
    "\n",
    "#     def get_image(self):\n",
    "#         self._poll_server()\n",
    "\n",
    "#         try:\n",
    "#             topic, rec_frame, md = self._recv_frame(self.socket_sub)\n",
    "# #             rec_frame = imutils.resize(rec_frame, width=2400, height=1800)\n",
    "\n",
    "#         except KeyboardInterrupt:\n",
    "#             pass\n",
    "\n",
    "#         return topic, rec_frame, md\n",
    "\n",
    "    def fetch_image(self):\n",
    "        self.open_client()\n",
    "        self._poll_server()\n",
    "        topic, rec_frame, md = self._recv_frame(self.socket_sub)\n",
    "        self.close_client()\n",
    "        return topic, rec_frame, md"
   ]
  },
  {
   "cell_type": "markdown",
   "metadata": {},
   "source": [
    "### Collect images\n",
    "Utility to collect images"
   ]
  },
  {
   "cell_type": "code",
   "execution_count": null,
   "metadata": {},
   "outputs": [
    {
     "data": {
      "application/vnd.jupyter.widget-view+json": {
       "model_id": "14e53353e6b7456f8ab2fecba6842469",
       "version_major": 2,
       "version_minor": 0
      },
      "text/plain": [
       "Button(description='Capture Image', style=ButtonStyle())"
      ]
     },
     "metadata": {},
     "output_type": "display_data"
    },
    {
     "data": {
      "application/vnd.jupyter.widget-view+json": {
       "model_id": "3f6fd28a089242d8b8aef961f42e9d37",
       "version_major": 2,
       "version_minor": 0
      },
      "text/plain": [
       "Button(description='Save Image', style=ButtonStyle())"
      ]
     },
     "metadata": {},
     "output_type": "display_data"
    },
    {
     "name": "stdout",
     "output_type": "stream",
     "text": [
      "Connecting to server...\n",
      "Finished\n"
     ]
    },
    {
     "data": {
      "image/png": "[encoded data removed]",
      "text/plain": [
       "<Figure size 576x432 with 1 Axes>"
      ]
     },
     "metadata": {
      "needs_background": "light"
     },
     "output_type": "display_data"
    }
   ],
   "source": [
    "import ipywidgets as widgets\n",
    "from IPython.display import display, clear_output\n",
    "\n",
    "btnCapture = widgets.Button(description=\"Capture Image\")\n",
    "btnSave = widgets.Button(description=\"Save Image\")\n",
    "display(btnCapture)\n",
    "display(btnSave)\n",
    "\n",
    "cap = Capture()\n",
    "\n",
    "rec_frame = None\n",
    "topic = None\n",
    "    \n",
    "def cap_button_clicked(b):\n",
    "    global rec_frame, topic\n",
    "    clear_output()\n",
    "    display(btnCapture)\n",
    "    display(btnSave)\n",
    "    topic, rec_frame, md = cap.fetch_image()\n",
    "    show_img(rec_frame, figsize=(8, 6), title=topic)\n",
    "    \n",
    "def save_button_clicked(b):\n",
    "    global rec_frame, topic\n",
    "    print(f'Saving {topic}.jpg')\n",
    "    cv2.imwrite(f'{topic}.jpg', rec_frame) \n",
    "\n",
    "        \n",
    "btnCapture.on_click(cap_button_clicked)\n",
    "btnSave.on_click(save_button_clicked)\n",
    "\n",
    "    "
   ]
  },
  {
   "cell_type": "code",
   "execution_count": null,
   "metadata": {},
   "outputs": [
    {
     "data": {
      "text/plain": [
       "<matplotlib.axes._subplots.AxesSubplot at 0x7f1a08870c18>"
      ]
     },
     "execution_count": null,
     "metadata": {},
     "output_type": "execute_result"
    }
   ],
   "source": [
    "show_img(rec_frame, ax=axes, title=topic)"
   ]
  },
  {
   "cell_type": "code",
   "execution_count": null,
   "metadata": {},
   "outputs": [],
   "source": [
    "def show_img(im, figsize=None, ax=None, alpha=None, label=None, mode=None, axis_on=False, title=None, cmap=None, vmin=0, vmax=None):\n",
    "    if not ax: fig, ax = plt.subplots(figsize=figsize)\n",
    "    ax.imshow(im, alpha=alpha, cmap=cmap, vmin=vmin, vmax=vmax)\n",
    "    if not axis_on:\n",
    "        ax.set_axis_off()\n",
    "    if label: ax.legend()\n",
    "    if title: ax.set_title(title)\n",
    "    return ax"
   ]
  },
  {
   "cell_type": "markdown",
   "metadata": {},
   "source": [
    "### Camera Calibration.\n",
    "Measure  distortions in camera, intrinsic and extrinsic parameters of camera etc.  \n",
    "We will learn to find these parameters, undistort images etc.  \n",
    "Basics  \n",
    "https://opencv-python-tutroals.readthedocs.io/en/latest/py_tutorials/py_calib3d/py_calibration/py_calibration.html#calibration  \n",
    "\n",
    "\n",
    "Left and right camera samples are in the local `nbs\\sample_data\\` directory. "
   ]
  },
  {
   "cell_type": "code",
   "execution_count": null,
   "metadata": {},
   "outputs": [],
   "source": [
    "import cv2\n",
    "cv2.samples.addSamplesDataSearchPath('sample_data')\n",
    "src2 = cv2.imread(cv2.samples.findFile('left01.jpg'))\n",
    "imshow(src2)"
   ]
  },
  {
   "cell_type": "markdown",
   "metadata": {},
   "source": [
    "### Find chess board image corner points points\n",
    "To find pattern in chess board, we use the function, cv2.findChessboardCorners()  \n",
    "Pass what kind of pattern we are looking, like 8x8 grid, 5x5 grid etc. In this example, we use 7x6 grid. \n",
    "Once we find the corners, we can increase their accuracy using cv2.cornerSubPix().  "
   ]
  },
  {
   "cell_type": "code",
   "execution_count": null,
   "metadata": {},
   "outputs": [],
   "source": [
    "import numpy as np\n",
    "import cv2\n",
    "import glob\n",
    "\n",
    "# termination criteria\n",
    "criteria = (cv2.TERM_CRITERIA_EPS + cv2.TERM_CRITERIA_MAX_ITER, 30, 0.001)\n",
    "\n",
    "# prepare object points, like (0,0,0), (1,0,0), (2,0,0) ....,(6,5,0)\n",
    "objp = np.zeros((6*7,3), np.float32)\n",
    "objp[:,:2] = np.mgrid[0:7,0:6].T.reshape(-1,2)\n",
    "\n",
    "# Arrays to store object points and image points from all the images.\n",
    "objpoints = [] # 3d point in real world space\n",
    "imgpoints = [] # 2d points in image plane.\n",
    "\n",
    "fig, axes = plt.subplots(4, 4, figsize=(16, 16))\n",
    "images = glob.glob('sample_data/left*.jpg')\n",
    "\n",
    "for i, fname in enumerate(images):\n",
    "    img = cv2.imread(fname)\n",
    "    gray = cv2.cvtColor(img,cv2.COLOR_BGR2GRAY)\n",
    "\n",
    "    # Find the chess board corners\n",
    "    ret, corners = cv2.findChessboardCorners(gray, (7,6),None)\n",
    "    # If found, add object points, image points (after refining them)\n",
    "    if ret == True:\n",
    "        objpoints.append(objp)\n",
    "\n",
    "        corners2 = cv2.cornerSubPix(gray,corners,(11,11),(-1,-1),criteria)\n",
    "        imgpoints.append(corners2)\n",
    "\n",
    "        # Draw and display the corners\n",
    "        img = cv2.drawChessboardCorners(img, (7,6), corners2,ret)\n",
    "        # cv2.imshow('img',img)\n",
    "        # cv2.waitKey(500)\n",
    "         \n",
    "    show_img(img, ax=axes.flat[i])\n",
    "\n",
    "cv2.destroyAllWindows()\n",
    "plt.tight_layout()"
   ]
  },
  {
   "cell_type": "markdown",
   "metadata": {},
   "source": [
    "### Calibration\n",
    "The function cv2.calibrateCamera() returns the camera matrix, distortion coefficients, rotation and translation vectors etc."
   ]
  },
  {
   "cell_type": "code",
   "execution_count": null,
   "metadata": {},
   "outputs": [],
   "source": [
    "retval, cameraMatrix, distCoeffs, rvecs, tvecs = cv2.calibrateCamera(objpoints, imgpoints, gray.shape[::-1],None,None)\n",
    "len(rvecs)"
   ]
  },
  {
   "cell_type": "markdown",
   "metadata": {},
   "source": [
    "### Undistortion"
   ]
  },
  {
   "cell_type": "code",
   "execution_count": null,
   "metadata": {},
   "outputs": [],
   "source": [
    "img = cv2.imread('sample_data/left12.jpg')\n",
    "h,  w = img.shape[:2]\n",
    "newcameramtx, roi=cv2.getOptimalNewCameraMatrix(cameraMatrix, distCoeffs,(w,h),1,(w,h))\n",
    "\n",
    "dst = cv2.undistort(img, cameraMatrix, distCoeffs, None, newcameramtx)\n",
    "\n",
    "# crop the image\n",
    "# x,y,w,h = roi\n",
    "# dst = dst[y:y+h, x:x+w]\n",
    "# cv2.imwrite('calibresult.png',dst)\n",
    "\n",
    "fig, (ax1, ax2) = plt.subplots(1, 2, figsize=(16, 8))\n",
    "show_img(img, ax=ax1, title='origonal')\n",
    "show_img(dst, ax=ax2, title='undistorted')\n",
    "plt.tight_layout()\n",
    "\n",
    "print(cameraMatrix.shape , distCoeffs.shape, newcameramtx.shape)"
   ]
  },
  {
   "cell_type": "markdown",
   "metadata": {},
   "source": [
    "### Using remapping\n",
    "First find a mapping function from distorted image to undistorted image. Then use the remap function.\n",
    "Then use the undistorted pixels x,y to select the mapping pixel from the distorted image"
   ]
  },
  {
   "cell_type": "code",
   "execution_count": null,
   "metadata": {},
   "outputs": [],
   "source": [
    "# undistort\n",
    "mapx,mapy = cv2.initUndistortRectifyMap(cameraMatrix, distCoeffs, None,newcameramtx, (w,h), 5)\n",
    "dst = cv2.remap(img,mapx,mapy,cv2.INTER_LINEAR)\n",
    "\n",
    "# crop the image\n",
    "# x,y,w,h = roi\n",
    "# dst = dst[y:y+h, x:x+w]\n",
    "fig, (ax1, ax2) = plt.subplots(1, 2, figsize=(16, 8))\n",
    "show_img(img, ax=ax1, title='origonal')\n",
    "show_img(dst, ax=ax2, title='nndistorted')\n",
    "plt.tight_layout()"
   ]
  },
  {
   "cell_type": "code",
   "execution_count": null,
   "metadata": {},
   "outputs": [],
   "source": [
    "print(mapx.shape , mapy.shape)"
   ]
  },
  {
   "cell_type": "markdown",
   "metadata": {},
   "source": [
    "### Re-projection Error\n",
    "Re-projection error gives a good estimation of just how exact is the found parameters. This should be as close to zero as possible."
   ]
  },
  {
   "cell_type": "code",
   "execution_count": null,
   "metadata": {},
   "outputs": [],
   "source": [
    "mean_error = 0\n",
    "for i in range(len(objpoints)):\n",
    "    imgpoints2, _ = cv2.projectPoints(objpoints[i], rvecs[i], tvecs[i], cameraMatrix, distCoeffs)\n",
    "    error = cv2.norm(imgpoints[i],imgpoints2, cv2.NORM_L2)/len(imgpoints2)\n",
    "    mean_error += error\n",
    "\n",
    "print (\"total error: \", mean_error/len(objpoints))\n",
    "print('len(objpoints): ', len(objpoints))\n",
    "\n"
   ]
  },
  {
   "cell_type": "markdown",
   "metadata": {},
   "source": [
    "### Save in camera yaml file"
   ]
  },
  {
   "cell_type": "code",
   "execution_count": null,
   "metadata": {},
   "outputs": [],
   "source": [
    "import yaml\n",
    "from yaml import load, dump\n",
    "try:\n",
    "    from yaml import CLoader as Loader, CDumper as Dumper\n",
    "except ImportError:\n",
    "    from yaml import Loader, Dumper\n",
    "\n",
    "# import pyaml\n",
    "import pickle\n",
    "from pathlib import Path\n",
    "\n",
    "yaml_dir= Path.cwd()/'common'\n",
    "serial = '19444715'\n",
    "\n",
    "yaml_path = f'{yaml_dir/serial}.yaml'\n",
    "\n",
    "with open(yaml_path, 'rb') as file:\n",
    "    yaml_dict = yaml.load(file, Loader=Loader)\n",
    "    print(yaml.dump(yaml_dict))\n",
    "\n",
    "obj = {'cameraMatrix': cameraMatrix.tolist() , 'distCoeffs': distCoeffs.tolist(), 'newcameramtx': newcameramtx.tolist()}\n",
    "# \n",
    "# with open('common/calibration.pkl','wb') as f: \n",
    "#     pickle.dump(obj, f)   \n",
    "# \n",
    "# with open('common/calibration.pkl','rb') as f: \n",
    "#     objin = pickle.load(f)\n",
    "\n",
    "# calibration = pickle.dumps(obj)\n",
    "yaml_dict['calibration'] = obj\n",
    "\n",
    "with open(yaml_path, 'w') as file:\n",
    "    yaml.dump(yaml_dict, file)\n",
    "    \n",
    "print(\"fin\")    "
   ]
  },
  {
   "cell_type": "code",
   "execution_count": null,
   "metadata": {},
   "outputs": [],
   "source": [
    "with open(yaml_path, 'rb') as file:\n",
    "    yaml_dict = yaml.load(file, Loader=Loader)\n",
    "    print(yaml.dump(yaml_dict))"
   ]
  },
  {
   "cell_type": "code",
   "execution_count": null,
   "metadata": {},
   "outputs": [],
   "source": [
    "cal = yaml_dict['calibration']\n",
    "cameraMatrix = cal['cameraMatrix']\n",
    "distCoeffs = cal['distCoeffs']\n",
    "newcameramtx = cal['newcameramtx']\n",
    "print(newcameramtx)\n"
   ]
  },
  {
   "cell_type": "markdown",
   "metadata": {},
   "source": [
    "##  Misc"
   ]
  },
  {
   "cell_type": "markdown",
   "metadata": {},
   "source": [
    "###  Create a depth map from stereo images"
   ]
  },
  {
   "cell_type": "code",
   "execution_count": null,
   "metadata": {},
   "outputs": [],
   "source": [
    "from matplotlib import pyplot as plt\n",
    "imgL = cv2.imread('sample_data/tsukuba_l.png', cv2.IMREAD_GRAYSCALE)\n",
    "imgR = cv2.imread('sample_data/tsukuba_r.png', cv2.IMREAD_GRAYSCALE)\n",
    "stereo = cv2.StereooBM_create(numDisparities=16, blockSize=15)\n",
    "disparity = stereo.compute(imgL,imgR)\n",
    "\n",
    "fig, (ax1, ax2) = plt.subplots(1, 2, figsize=(16, 8))\n",
    "show_img(imgL, ax=ax1, title='origonal')\n",
    "show_img(disparity, ax=ax2, title='disparity')\n",
    "plt.tight_layout() "
   ]
  },
  {
   "cell_type": "code",
   "execution_count": null,
   "metadata": {},
   "outputs": [],
   "source": [
    "\n"
   ]
  }
 ],
 "metadata": {
  "kernelspec": {
   "display_name": "Python 3",
   "language": "python",
   "name": "python3"
  }
 },
 "nbformat": 4,
 "nbformat_minor": 4
}
