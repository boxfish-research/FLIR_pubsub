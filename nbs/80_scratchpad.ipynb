{
 "cells": [
  {
   "cell_type": "code",
   "execution_count": null,
   "metadata": {},
   "outputs": [
    {
     "name": "stdout",
     "output_type": "stream",
     "text": [
      "iso.3.6.1.4.1.14988.1.1.19.1.1.2.8 = STRING: \"sfp1\"\r\niso.3.6.1.4.1.14988.1.1.19.1.1.3.8 = INTEGER: 1\r\niso.3.6.1.4.1.14988.1.1.19.1.1.4.8 = INTEGER: 0\r\niso.3.6.1.4.1.14988.1.1.19.1.1.5.8 = Gauge32: 155000\r\niso.3.6.1.4.1.14988.1.1.19.1.1.6.8 = Gauge32: 62\r\niso.3.6.1.4.1.14988.1.1.19.1.1.7.8 = Gauge32: 3240\r\niso.3.6.1.4.1.14988.1.1.19.1.1.8.8 = Gauge32: 31\r\niso.3.6.1.4.1.14988.1.1.19.1.1.9.8 = INTEGER: 1299\r\niso.3.6.1.4.1.14988.1.1.19.1.1.10.8 = INTEGER: 0\r\nEnd of MIB\r\n"
     ]
    }
   ],
   "source": [
    "! snmpwalk -v 1 -c public 192.168.183.1 1.3.6.1.4.1.14988.1.1.19"
   ]
  },
  {
   "cell_type": "code",
   "execution_count": null,
   "metadata": {},
   "outputs": [],
   "source": []
  }
 ],
 "metadata": {
  "kernelspec": {
   "display_name": "Python 3",
   "language": "python",
   "name": "python3"
  }
 },
 "nbformat": 4,
 "nbformat_minor": 0
}
