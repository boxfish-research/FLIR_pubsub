{
 "cells": [
  {
   "cell_type": "markdown",
   "metadata": {},
   "source": [
    "# Boxfish FLIR Cameras Library\n",
    "> This project allows the remote running of camera over an ethernet connection\n",
    "> "
   ]
  },
  {
   "cell_type": "markdown",
   "metadata": {},
   "source": [
    "### Description\n",
    "It uses the pyZMQ to allow the remote running of camera over an ethernet connection using the \n",
    "[Publish/Subscribe](https://learning-0mq-with-pyzmq.readthedocs.io/en/latest/pyzmq/patterns/pubsub.html) \n",
    "messaging pattern. This has proved to be more efficient in bandwidth over the `Request/Reply pattern`.  \n",
    "There are server and client examples including an example of how stereo camera pairs can be configured and synchronised recordings made."
   ]
  },
  {
   "cell_type": "markdown",
   "metadata": {},
   "source": [
    "### Documentation\n",
    "This library and documentation had been generated with __fastai nbdev__  \n",
    "nbdev is a library that allows you to fully develop a library in Jupyter Notebooks, putting all your code, \n",
    "tests and documentation in one place.  \n",
    "https://nbdev.fast.ai/"
   ]
  },
  {
   "cell_type": "markdown",
   "metadata": {},
   "source": [
    "## Installation"
   ]
  },
  {
   "cell_type": "markdown",
   "metadata": {},
   "source": [
    "Clone or download the project from https://github.com/johnnewto/FLIR_pubsub  \n",
    "\n",
    "If running a server then you will need to follow details in \n",
    "[UPBoard_setup](https://johnnewto.github.io/FLIR_pubsub/UPBoard_setup/)  and \n",
    "[FLIR_server_utils](https://johnnewto.github.io/FLIR_pubsub/FLIR_server_utils/)  \n",
    "\n",
    "If running a client then you only need to copy or symlink the `FLIR_pubsub/FLIR_pubsub` directory as a local directory\n",
    "Examples of clients are shown in `FLIR_pubsub/run`  \n",
    "More details are described in \n",
    "[FLIR_client_utils](https://johnnewto.github.io/FLIR_pubsub/FLIR_client_utils/)\n",
    "\n",
    "Normally it is best to setup a virtual environment, call it flir, and install the requirements with   \n",
    "`pip install -r requirements.txt`"
   ]
  },
  {
   "cell_type": "markdown",
   "metadata": {},
   "source": [
    "## How to use"
   ]
  },
  {
   "cell_type": "markdown",
   "metadata": {},
   "source": [
    "### Example of a Multiple Camera Server"
   ]
  },
  {
   "cell_type": "code",
   "execution_count": null,
   "metadata": {},
   "outputs": [],
   "source": [
    "from  FLIR_pubsub import FLIR_server_utils\n",
    "FLIR_server_utils.register()  \n",
    "\n",
    "from pathlib import Path\n",
    "if __name__== \"__main__\":\n",
    "\n",
    "    yaml_dir= Path.cwd()/'common'\n",
    "    FLIR_server_utils.server(yaml_dir)\n"
   ]
  },
  {
   "cell_type": "markdown",
   "metadata": {},
   "source": [
    "For more details see [FLIR_server_utils](https://johnnewto.github.io/FLIR_pubsub/FLIR_server_utils/)\n",
    "\n",
    "### Example of a Camera Client"
   ]
  },
  {
   "cell_type": "code",
   "execution_count": null,
   "metadata": {},
   "outputs": [],
   "source": [
    "from  FLIR_pubsub import FLIR_client_utils\n",
    "if __name__== \"__main__\":\n",
    "\n",
    "    FLIR_client_utils.stereo_client(name1='FrontLeft', name2='FrontRight', url='localhost', video='video.avi', vcodec='mjpeg')"
   ]
  },
  {
   "cell_type": "markdown",
   "metadata": {},
   "source": [
    "For more details see [FLIR_client_utils](https://johnnewto.github.io/FLIR_pubsub/FLIR_client_utils/)"
   ]
  },
  {
   "cell_type": "markdown",
   "metadata": {},
   "source": [
    "### Installing Jupyter Notebook\n",
    "\n",
    "`pip install notebook`"
   ]
  }
 ],
 "metadata": {
  "kernelspec": {
   "display_name": "Python 3",
   "language": "python",
   "name": "python3"
  },
  "language_info": {
   "codemirror_mode": {
    "name": "ipython",
    "version": 3
   },
   "file_extension": ".py",
   "mimetype": "text/x-python",
   "name": "python",
   "nbconvert_exporter": "python",
   "pygments_lexer": "ipython3",
   "version": "3.6.9"
  }
 },
 "nbformat": 4,
 "nbformat_minor": 2
}
