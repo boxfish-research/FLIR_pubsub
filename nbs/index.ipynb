{
 "cells": [
  {
   "cell_type": "code",
   "execution_count": null,
   "metadata": {},
   "outputs": [],
   "source": [
    "#hide\n",
    "# from Boxfish-stereo-cam.core import *"
   ]
  },
  {
   "cell_type": "markdown",
   "metadata": {},
   "source": [
    "# Boxfish-FLIR-Cameras\n",
    "\n",
    "> This project allows the remote running of camera over an ethernet connection. It uses the pyZMQ \n",
    "> [Publish/Subscribe](https://learning-0mq-with-pyzmq.readthedocs.io/en/latest/pyzmq/patterns/pubsub.html) \n",
    "> messaging pattern because it is more efficient in bandwidth over the `Request/Reply pattern`. \n",
    "> There is also an example of how stereo camera pairs can be configured and synchronised recordings made."
   ]
  },
  {
   "cell_type": "markdown",
   "metadata": {},
   "source": []
  },
  {
   "cell_type": "markdown",
   "metadata": {},
   "source": [
    "## Install"
   ]
  },
  {
   "cell_type": "markdown",
   "metadata": {},
   "source": [
    "Under Ubuntu you can symlink or copy the  `boxfish_flir_cam` directory to the project.\n",
    "Then create a server and client as described in the "
   ]
  },
  {
   "cell_type": "markdown",
   "metadata": {},
   "source": [
    "## How to use"
   ]
  },
  {
   "cell_type": "markdown",
   "metadata": {},
   "source": [
    "### Example of a Multiple Camera Server"
   ]
  },
  {
   "cell_type": "code",
   "execution_count": null,
   "metadata": {},
   "outputs": [],
   "source": [
    "from  FLIR_pubsub import FLIR_server_utils\n",
    "FLIR_server_utils.register()  \n",
    "\n",
    "from pathlib import Path\n",
    "if __name__== \"__main__\":\n",
    "\n",
    "    yaml_dir= Path.cwd()/'common'\n",
    "    FLIR_server_utils.server(yaml_dir)\n"
   ]
  },
  {
   "cell_type": "markdown",
   "metadata": {},
   "source": [
    "For more details see [FLIR_server_utils](https://johnnewto.github.io/FLIR_pubsub/FLIR_server_utils/)\n",
    "\n",
    "### Example of a Camera Client"
   ]
  },
  {
   "cell_type": "code",
   "execution_count": null,
   "metadata": {},
   "outputs": [],
   "source": [
    "from  FLIR_pubsub import FLIR_client_utils\n",
    "if __name__== \"__main__\":\n",
    "\n",
    "    FLIR_client_utils.stereo_client(name1='FrontLeft', name2='FrontRight', url='localhost', video='video.avi', vcodec='mjpeg')"
   ]
  },
  {
   "cell_type": "markdown",
   "metadata": {},
   "source": [
    "For more details see [FLIR_client_utils](https://johnnewto.github.io/FLIR_pubsub/FLIR_client_utils/)\n"
   ]
  }
 ],
 "metadata": {
  "kernelspec": {
   "display_name": "Python 3",
   "language": "python",
   "name": "python3"
  }
 },
 "nbformat": 4,
 "nbformat_minor": 2
}
