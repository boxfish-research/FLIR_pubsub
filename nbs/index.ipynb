{
 "cells": [
  {
   "cell_type": "code",
   "execution_count": null,
   "metadata": {},
   "outputs": [],
   "source": [
    "#hide\n",
    "# from Boxfish-stereo-cam.core import *"
   ]
  },
  {
   "cell_type": "markdown",
   "metadata": {},
   "source": [
    "# Boxfish-FLIR-Cameras\n",
    "\n",
    "> This project allows the reomote running of camera over an ethernet connection. \n",
    "> Stereo camera pairs can be configured and recording made"
   ]
  },
  {
   "cell_type": "markdown",
   "metadata": {},
   "source": [
    "### Example of a Multiple Camera Server"
   ]
  },
  {
   "cell_type": "code",
   "execution_count": null,
   "metadata": {},
   "outputs": [],
   "source": [
    "from  boxfish_flir_cam import FLIR_server_utils\n",
    "FLIR_server_utils.register()  \n",
    "\n",
    "from pathlib import Path\n",
    "if __name__== \"__main__\":\n",
    "\n",
    "    yaml_dir= Path.cwd()/'common'\n",
    "    FLIR_server_utils.server(yaml_dir)"
   ]
  },
  {
   "cell_type": "markdown",
   "metadata": {},
   "source": [
    "## Install"
   ]
  },
  {
   "cell_type": "markdown",
   "metadata": {},
   "source": [
    "Under Ubuntu you can symlink or copy the  `boxfish_flir_cam` directory to the project."
   ]
  },
  {
   "cell_type": "markdown",
   "metadata": {},
   "source": [
    "## How to use"
   ]
  },
  {
   "cell_type": "markdown",
   "metadata": {},
   "source": [
    "Fill me in please! Don't forget code examples:\n",
    "\n",
    "\n",
    "\n"
   ]
  }
 ],
 "metadata": {
  "kernelspec": {
   "display_name": "Python 3",
   "language": "python",
   "name": "python3"
  }
 },
 "nbformat": 4,
 "nbformat_minor": 2
}
